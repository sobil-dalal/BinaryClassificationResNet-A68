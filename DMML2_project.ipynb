{
 "cells": [
  {
   "cell_type": "markdown",
   "metadata": {
    "toc": true
   },
   "source": [
    "<h1>Table of Contents<span class=\"tocSkip\"></span></h1>\n",
    "<div class=\"toc\"><ul class=\"toc-item\"><li><span><a href=\"#Introduction\" data-toc-modified-id=\"Introduction-1\"><span class=\"toc-item-num\">1&nbsp;&nbsp;</span>Introduction</a></span></li><li><span><a href=\"#Importing-required-packages\" data-toc-modified-id=\"Importing-required-packages-2\"><span class=\"toc-item-num\">2&nbsp;&nbsp;</span>Importing required packages</a></span></li><li><span><a href=\"#Gathering-Data\" data-toc-modified-id=\"Gathering-Data-3\"><span class=\"toc-item-num\">3&nbsp;&nbsp;</span>Gathering Data</a></span><ul class=\"toc-item\"><li><span><a href=\"#Structure-of-dataset\" data-toc-modified-id=\"Structure-of-dataset-3.1\"><span class=\"toc-item-num\">3.1&nbsp;&nbsp;</span>Structure of dataset</a></span></li><li><span><a href=\"#Structure-of-train-and-validation-sub-divded-dataset\" data-toc-modified-id=\"Structure-of-train-and-validation-sub-divded-dataset-3.2\"><span class=\"toc-item-num\">3.2&nbsp;&nbsp;</span>Structure of train and validation sub divded dataset</a></span></li><li><span><a href=\"#Number-of-images-in-each-category\" data-toc-modified-id=\"Number-of-images-in-each-category-3.3\"><span class=\"toc-item-num\">3.3&nbsp;&nbsp;</span>Number of images in each category</a></span></li></ul></li><li><span><a href=\"#Exploring-Data\" data-toc-modified-id=\"Exploring-Data-4\"><span class=\"toc-item-num\">4&nbsp;&nbsp;</span>Exploring Data</a></span></li><li><span><a href=\"#Building-Residual-Network\" data-toc-modified-id=\"Building-Residual-Network-5\"><span class=\"toc-item-num\">5&nbsp;&nbsp;</span>Building Residual Network</a></span><ul class=\"toc-item\"><li><span><a href=\"#Identity-Block\" data-toc-modified-id=\"Identity-Block-5.1\"><span class=\"toc-item-num\">5.1&nbsp;&nbsp;</span>Identity Block</a></span></li><li><span><a href=\"#Convolutional-Block\" data-toc-modified-id=\"Convolutional-Block-5.2\"><span class=\"toc-item-num\">5.2&nbsp;&nbsp;</span>Convolutional Block</a></span></li><li><span><a href=\"#Building-deep-RESNet-A68-(68-layers)\" data-toc-modified-id=\"Building-deep-RESNet-A68-(68-layers)-5.3\"><span class=\"toc-item-num\">5.3&nbsp;&nbsp;</span>Building deep RESNet-A68 (68 layers)</a></span></li></ul></li><li><span><a href=\"#Training,-Evaluating-and-Optimising-Model\" data-toc-modified-id=\"Training,-Evaluating-and-Optimising-Model-6\"><span class=\"toc-item-num\">6&nbsp;&nbsp;</span>Training, Evaluating and Optimising Model</a></span><ul class=\"toc-item\"><li><span><a href=\"#Initalise-the-model\" data-toc-modified-id=\"Initalise-the-model-6.1\"><span class=\"toc-item-num\">6.1&nbsp;&nbsp;</span>Initalise the model</a></span></li><li><span><a href=\"#Configure-the-learning-process-by-compiling-the-model\" data-toc-modified-id=\"Configure-the-learning-process-by-compiling-the-model-6.2\"><span class=\"toc-item-num\">6.2&nbsp;&nbsp;</span>Configure the learning process by compiling the model</a></span></li><li><span><a href=\"#Training-the-model-on-2-epochs-with-a-batch-size-of-32\" data-toc-modified-id=\"Training-the-model-on-2-epochs-with-a-batch-size-of-32-6.3\"><span class=\"toc-item-num\">6.3&nbsp;&nbsp;</span>Training the model on 2 epochs with a batch size of 32</a></span></li><li><span><a href=\"#Save-the-model-and-weights-of-model-run-on-2-epochs\" data-toc-modified-id=\"Save-the-model-and-weights-of-model-run-on-2-epochs-6.4\"><span class=\"toc-item-num\">6.4&nbsp;&nbsp;</span>Save the model and weights of model run on 2 epochs</a></span></li><li><span><a href=\"#Training-the-model-on-20,-18,-16,-14,-10-epochs-with-a-batch-size-of-32\" data-toc-modified-id=\"Training-the-model-on-20,-18,-16,-14,-10-epochs-with-a-batch-size-of-32-6.5\"><span class=\"toc-item-num\">6.5&nbsp;&nbsp;</span>Training the model on 20, 18, 16, 14, 10 epochs with a batch size of 32</a></span></li><li><span><a href=\"#Save-the-model-and-weights-of-model-run-on-20,-16,-14,-10-epochs\" data-toc-modified-id=\"Save-the-model-and-weights-of-model-run-on-20,-16,-14,-10-epochs-6.6\"><span class=\"toc-item-num\">6.6&nbsp;&nbsp;</span>Save the model and weights of model run on 20, 16, 14, 10 epochs</a></span></li></ul></li><li><span><a href=\"#Further-training-the-Model15\" data-toc-modified-id=\"Further-training-the-Model15-7\"><span class=\"toc-item-num\">7&nbsp;&nbsp;</span>Further training the Model15</a></span><ul class=\"toc-item\"><li><span><a href=\"#Loading-the-model\" data-toc-modified-id=\"Loading-the-model-7.1\"><span class=\"toc-item-num\">7.1&nbsp;&nbsp;</span>Loading the model</a></span></li><li><span><a href=\"#Reducing-the-learning-rate\" data-toc-modified-id=\"Reducing-the-learning-rate-7.2\"><span class=\"toc-item-num\">7.2&nbsp;&nbsp;</span>Reducing the learning rate</a></span></li><li><span><a href=\"#Training-further-with-lower-learning-rate\" data-toc-modified-id=\"Training-further-with-lower-learning-rate-7.3\"><span class=\"toc-item-num\">7.3&nbsp;&nbsp;</span>Training further with lower learning rate</a></span></li><li><span><a href=\"#Saving-the-model,-weights-and-architecture\" data-toc-modified-id=\"Saving-the-model,-weights-and-architecture-7.4\"><span class=\"toc-item-num\">7.4&nbsp;&nbsp;</span>Saving the model, weights and architecture</a></span></li></ul></li><li><span><a href=\"#Model-Summary\" data-toc-modified-id=\"Model-Summary-8\"><span class=\"toc-item-num\">8&nbsp;&nbsp;</span>Model Summary</a></span><ul class=\"toc-item\"><li><span><a href=\"#Model-comparision\" data-toc-modified-id=\"Model-comparision-8.1\"><span class=\"toc-item-num\">8.1&nbsp;&nbsp;</span>Model comparision</a></span></li><li><span><a href=\"#Loading-the-model-with-best-validation-accuracy-i.e-Model13\" data-toc-modified-id=\"Loading-the-model-with-best-validation-accuracy-i.e-Model13-8.2\"><span class=\"toc-item-num\">8.2&nbsp;&nbsp;</span>Loading the model with best validation accuracy i.e Model13</a></span></li><li><span><a href=\"#Summary\" data-toc-modified-id=\"Summary-8.3\"><span class=\"toc-item-num\">8.3&nbsp;&nbsp;</span>Summary</a></span></li></ul></li><li><span><a href=\"#Making-prediction-on-sample-images-using-Model13\" data-toc-modified-id=\"Making-prediction-on-sample-images-using-Model13-9\"><span class=\"toc-item-num\">9&nbsp;&nbsp;</span>Making prediction on sample images using Model13</a></span><ul class=\"toc-item\"><li><span><a href=\"#Fetching-random-images-from-validation-dataset\" data-toc-modified-id=\"Fetching-random-images-from-validation-dataset-9.1\"><span class=\"toc-item-num\">9.1&nbsp;&nbsp;</span>Fetching random images from validation dataset</a></span></li><li><span><a href=\"#Preprocessing-and-classifying-the-image\" data-toc-modified-id=\"Preprocessing-and-classifying-the-image-9.2\"><span class=\"toc-item-num\">9.2&nbsp;&nbsp;</span>Preprocessing and classifying the image</a></span></li><li><span><a href=\"#Plotting-the-image-with-classfication-percentage\" data-toc-modified-id=\"Plotting-the-image-with-classfication-percentage-9.3\"><span class=\"toc-item-num\">9.3&nbsp;&nbsp;</span>Plotting the image with classfication percentage</a></span></li></ul></li><li><span><a href=\"#References\" data-toc-modified-id=\"References-10\"><span class=\"toc-item-num\">10&nbsp;&nbsp;</span>References</a></span></li></ul></div>"
   ]
  },
  {
   "cell_type": "markdown",
   "metadata": {},
   "source": [
    "# <font color='darkblue'>Binary Classification using RESNet</font>"
   ]
  },
  {
   "cell_type": "markdown",
   "metadata": {},
   "source": [
    "## Introduction\n",
    "\n",
    "**In this project, following things are implemented:**\n",
    "- The basic building blocks of ResNets. \n",
    "- Put together these building blocks to implement \n",
    "- train a state-of-the-art neural network for image classification. "
   ]
  },
  {
   "cell_type": "markdown",
   "metadata": {},
   "source": [
    "## Importing required packages"
   ]
  },
  {
   "cell_type": "code",
   "execution_count": 1,
   "metadata": {},
   "outputs": [],
   "source": [
    "#!pip install keras\n",
    "#!pip install tensorflow\n",
    "#!pip install pydot\n",
    "#!pip install graphviz"
   ]
  },
  {
   "cell_type": "code",
   "execution_count": 2,
   "metadata": {},
   "outputs": [
    {
     "name": "stdout",
     "output_type": "stream",
     "text": [
      "WARNING:tensorflow:From <ipython-input-2-d6a7381ef118>:25: set_learning_phase (from tensorflow.python.keras.backend) is deprecated and will be removed after 2020-10-11.\n",
      "Instructions for updating:\n",
      "Simply pass a True/False value to the `training` argument of the `__call__` method of your layer or model.\n"
     ]
    }
   ],
   "source": [
    "import numpy as np\n",
    "import pandas as pd\n",
    "from keras import layers\n",
    "from keras.layers import Input, Add, Dense, Activation, ZeroPadding2D, BatchNormalization, Flatten, Conv2D, AveragePooling2D, MaxPooling2D, GlobalMaxPooling2D\n",
    "from keras.models import Model, load_model\n",
    "from keras.preprocessing import image\n",
    "from keras.preprocessing.image import ImageDataGenerator\n",
    "from keras.utils import layer_utils\n",
    "from keras.utils.data_utils import get_file\n",
    "from keras.applications.imagenet_utils import preprocess_input\n",
    "from keras.optimizers import Adam\n",
    "import os\n",
    "import pydot\n",
    "from keras.models import load_model, model_from_json\n",
    "from keras.utils import plot_model\n",
    "from keras.initializers import glorot_uniform\n",
    "import scipy.misc\n",
    "from PIL import Image\n",
    "import matplotlib.pyplot as plt\n",
    "from matplotlib.pyplot import imshow\n",
    "%matplotlib inline\n",
    "\n",
    "import keras.backend as K\n",
    "K.set_image_data_format('channels_last')\n",
    "K.set_learning_phase(1)"
   ]
  },
  {
   "cell_type": "markdown",
   "metadata": {},
   "source": [
    "## Gathering Data"
   ]
  },
  {
   "cell_type": "markdown",
   "metadata": {},
   "source": [
    "**Data is downloaded locally into the current directory into 'data' directory from [Kaggle](https://www.kaggle.com/pmigdal/alien-vs-predator-images)**"
   ]
  },
  {
   "cell_type": "markdown",
   "metadata": {},
   "source": [
    "Path of current directory"
   ]
  },
  {
   "cell_type": "code",
   "execution_count": 3,
   "metadata": {},
   "outputs": [
    {
     "data": {
      "text/plain": [
       "'/Users/sobil/Documents/MSC/Sem2/ML2/Project/Code'"
      ]
     },
     "execution_count": 3,
     "metadata": {},
     "output_type": "execute_result"
    }
   ],
   "source": [
    "os.getcwd()"
   ]
  },
  {
   "cell_type": "markdown",
   "metadata": {},
   "source": [
    "Path of dataset"
   ]
  },
  {
   "cell_type": "code",
   "execution_count": 4,
   "metadata": {},
   "outputs": [
    {
     "data": {
      "text/plain": [
       "'/Users/sobil/Documents/MSC/Sem2/ML2/Project/Code/data'"
      ]
     },
     "execution_count": 4,
     "metadata": {},
     "output_type": "execute_result"
    }
   ],
   "source": [
    "os.getcwd() + '/data'"
   ]
  },
  {
   "cell_type": "markdown",
   "metadata": {},
   "source": [
    "### Structure of dataset"
   ]
  },
  {
   "cell_type": "code",
   "execution_count": 5,
   "metadata": {},
   "outputs": [
    {
     "data": {
      "text/plain": [
       "['.DS_Store', 'train', 'validation']"
      ]
     },
     "execution_count": 5,
     "metadata": {},
     "output_type": "execute_result"
    }
   ],
   "source": [
    "os.listdir(os.getcwd() + '/data')"
   ]
  },
  {
   "cell_type": "markdown",
   "metadata": {},
   "source": [
    "### Structure of train and validation sub divded dataset"
   ]
  },
  {
   "cell_type": "code",
   "execution_count": 6,
   "metadata": {},
   "outputs": [
    {
     "data": {
      "text/plain": [
       "['.DS_Store', 'predator', 'alien']"
      ]
     },
     "execution_count": 6,
     "metadata": {},
     "output_type": "execute_result"
    }
   ],
   "source": [
    "os.listdir(os.getcwd() + '/data/train')"
   ]
  },
  {
   "cell_type": "code",
   "execution_count": 7,
   "metadata": {},
   "outputs": [
    {
     "data": {
      "text/plain": [
       "['.DS_Store', 'predator', 'alien']"
      ]
     },
     "execution_count": 7,
     "metadata": {},
     "output_type": "execute_result"
    }
   ],
   "source": [
    "os.listdir(os.getcwd() + '/data/validation')"
   ]
  },
  {
   "cell_type": "markdown",
   "metadata": {},
   "source": [
    "### Number of images in each category"
   ]
  },
  {
   "cell_type": "code",
   "execution_count": 8,
   "metadata": {},
   "outputs": [
    {
     "name": "stdout",
     "output_type": "stream",
     "text": [
      "Total training alien images: 347\n",
      "Total training predator images: 347\n",
      "--------------------------------\n",
      "Total validation alien images: 100\n",
      "Total validation predator images: 100\n"
     ]
    }
   ],
   "source": [
    "print('Total training alien images:', len(os.listdir(os.getcwd() + '/data/train/alien')))\n",
    "print('Total training predator images:', len(os.listdir(os.getcwd() + '/data/train/predator')))\n",
    "print(\"-\"*32)\n",
    "print('Total validation alien images:', len(os.listdir(os.getcwd() + '/data/validation/alien')))\n",
    "print('Total validation predator images:', len(os.listdir(os.getcwd() + '/data/validation/predator')))"
   ]
  },
  {
   "cell_type": "markdown",
   "metadata": {},
   "source": [
    "## Exploring Data"
   ]
  },
  {
   "cell_type": "code",
   "execution_count": 9,
   "metadata": {},
   "outputs": [
    {
     "name": "stdout",
     "output_type": "stream",
     "text": [
      "Found 694 images belonging to 2 classes.\n",
      "Found 200 images belonging to 2 classes.\n",
      "Batch shape=(32, 256, 256, 3), min=0.000, max=255.000\n"
     ]
    }
   ],
   "source": [
    "# create generator\n",
    "traingen = ImageDataGenerator(shear_range=10,\n",
    "    zoom_range=0.2,\n",
    "    horizontal_flip=True)\n",
    "valgen = ImageDataGenerator()\n",
    "# prepare an iterators for each dataset\n",
    "train_it = traingen.flow_from_directory('data/train/', class_mode='categorical')\n",
    "val_it = valgen.flow_from_directory('data/validation/', class_mode='categorical')\n",
    "# confirm the iterator works\n",
    "batchX, batchy = train_it.next()\n",
    "print('Batch shape=%s, min=%.3f, max=%.3f' % (batchX.shape, batchX.min(), batchX.max()))"
   ]
  },
  {
   "cell_type": "markdown",
   "metadata": {},
   "source": [
    "## Building Residual Network"
   ]
  },
  {
   "cell_type": "markdown",
   "metadata": {},
   "source": [
    "**Fig. 1 demonstrates the basic concept of Residual Network below:**\n",
    "\n",
    "<img src=\"images/1.jpeg\">\n",
    "<caption><center> <u> <font color='purple'> Fig. 1 </u><font color='purple'>  : A ResNet block showing a skip-connection <br> </center></caption>"
   ]
  },
  {
   "cell_type": "markdown",
   "metadata": {},
   "source": [
    "### Identity Block"
   ]
  },
  {
   "cell_type": "markdown",
   "metadata": {},
   "source": [
    "**In Fig. 2, Identity block is illustrated. It is further explained below:**\n",
    "- The upper path is the \"shortcut path.\" The lower path is the \"main path.\" \n",
    "- In this diagram, explicit CONV2D and ReLU steps in each layer are made. \n",
    "- To speed up training a BatchNorm step is also added.\n",
    "- Overall in the identity block, the skip connection \"skips over\" 3 hidden layers.\n",
    "\n",
    "<img src=\"images/2.jpeg\">\n",
    "<caption><center> <u> <font color='purple'> Fig. 2 </u><font color='purple'>  : Identity block. Skip connection \"skips over\" 3 layers.</center></caption>"
   ]
  },
  {
   "cell_type": "code",
   "execution_count": 10,
   "metadata": {},
   "outputs": [],
   "source": [
    "def identity_block(X, f, filters, stage, block):\n",
    "    \"\"\"\n",
    "    Implementation of the identity block as defined in Fig. 2\n",
    "    \n",
    "    Arguments:\n",
    "    X -- input tensor of shape (m, n_H_prev, n_W_prev, n_C_prev)\n",
    "    f -- integer, specifying the shape of the middle CONV's window for the main path\n",
    "    filters -- python list of integers, defining the number of filters in the CONV layers of the main path\n",
    "    stage -- integer, used to name the layers, depending on their position in the network\n",
    "    block -- string/character, used to name the layers, depending on their position in the network\n",
    "    \n",
    "    Returns:\n",
    "    X -- output of the identity block, tensor of shape (n_H, n_W, n_C)\n",
    "    \"\"\"\n",
    "    \n",
    "    # defining name basis\n",
    "    conv_name_base = 'res' + str(stage) + block + '_branch'\n",
    "    bn_name_base = 'bn' + str(stage) + block + '_branch'\n",
    "    \n",
    "    # Retrieve Filters\n",
    "    F1, F2, F3 = filters\n",
    "    \n",
    "    # Saving the input value. It'll needed later to add back to the main path. \n",
    "    X_shortcut = X\n",
    "    \n",
    "    # First component of main path\n",
    "    X = Conv2D(filters = F1, kernel_size = (1, 1), strides = (1,1), padding = 'valid', name = conv_name_base + '2a', kernel_initializer = glorot_uniform(seed=0))(X)\n",
    "    X = BatchNormalization(axis = 3, name = bn_name_base + '2a')(X)\n",
    "    X = Activation('relu')(X)\n",
    "        \n",
    "    # Second component of main path\n",
    "    X = Conv2D(filters = F2, kernel_size = (f, f), strides = (1,1), padding = 'same', name = conv_name_base + '2b', kernel_initializer = glorot_uniform(seed=0))(X)\n",
    "    X = BatchNormalization(axis = 3, name = bn_name_base + '2b')(X)\n",
    "    X = Activation('relu')(X)\n",
    "\n",
    "    # Third component of main path\n",
    "    X = Conv2D(filters = F3, kernel_size = (1, 1), strides = (1,1), padding = 'valid', name = conv_name_base + '2c', kernel_initializer = glorot_uniform(seed=0))(X)\n",
    "    X = BatchNormalization(axis = 3, name = bn_name_base + '2c')(X)\n",
    "\n",
    "    # Final step: Adding shortcut value to main path, and pass it through a RELU activation\n",
    "    X = Add()([X,X_shortcut])\n",
    "    X = Activation('relu')(X)\n",
    "    \n",
    "    return X"
   ]
  },
  {
   "cell_type": "markdown",
   "metadata": {},
   "source": [
    "### Convolutional Block"
   ]
  },
  {
   "cell_type": "markdown",
   "metadata": {},
   "source": [
    "**Similar to above in Fig. 3, Convolutional block is illustrated. It is further explained below:**\n",
    "- It is similar to identity block with a small difference and that is it can be used when the input and output dimensions don't match up.\n",
    "- The CONV2D layer in the shortcut path is used to resize the input $x$ to a different dimension, so that the dimensions match up in the final addition needed to add the shortcut value back to the main path.\n",
    "- The upper path is the \"shortcut path.\" The lower path is the \"main path.\" \n",
    "- In this diagram, explicit CONV2D and ReLU steps in each layer are made. \n",
    "- To speed up training a BatchNorm step is also added.\n",
    "- Overall in the convolution block, the skip connection \"skips over\" 3 hidden layers.\n",
    "- In the third CONV2D layer, a stride value is also passed to reduce the output dimensions which act as an input to the next stage.\n",
    "\n",
    "<img src=\"images/3.jpeg\">\n",
    "<caption><center> <u> <font color='purple'> Fig. 3 </u><font color='purple'>  : Convolutional block </center></caption>"
   ]
  },
  {
   "cell_type": "code",
   "execution_count": 11,
   "metadata": {},
   "outputs": [],
   "source": [
    "def convolutional_block(X, f, filters, stage, block, s = 2):\n",
    "    \"\"\"\n",
    "    Implementation of the convolutional block as defined in Fig. 3\n",
    "    \n",
    "    Arguments:\n",
    "    X -- input tensor of shape (m, n_H_prev, n_W_prev, n_C_prev)\n",
    "    f -- integer, specifying the shape of the middle CONV's window for the main path\n",
    "    filters -- python list of integers, defining the number of filters in the CONV layers of the main path\n",
    "    stage -- integer, used to name the layers, depending on their position in the network\n",
    "    block -- string/character, used to name the layers, depending on their position in the network\n",
    "    s -- Integer, specifying the stride to be used\n",
    "    \n",
    "    Returns:\n",
    "    X -- output of the convolutional block, tensor of shape (n_H, n_W, n_C)\n",
    "    \"\"\"\n",
    "    \n",
    "    # defining name basis\n",
    "    conv_name_base = 'res' + str(stage) + block + '_branch'\n",
    "    bn_name_base = 'bn' + str(stage) + block + '_branch'\n",
    "    \n",
    "    # Retrieve Filters\n",
    "    F1, F2, F3 = filters\n",
    "    \n",
    "    # Save the input value\n",
    "    X_shortcut = X\n",
    "\n",
    "\n",
    "    ##### MAIN PATH #####\n",
    "    # First component of main path \n",
    "    X = Conv2D(F1, (1, 1), strides = (s,s), padding = 'valid', name = conv_name_base + '2a', kernel_initializer = glorot_uniform(seed=0))(X)\n",
    "    X = BatchNormalization(axis = 3, name = bn_name_base + '2a')(X)\n",
    "    X = Activation('relu')(X)\n",
    "    \n",
    "    # Second component of main path\n",
    "    X = Conv2D(F2, (f, f), strides = (1,1), padding = 'same', name = conv_name_base + '2b', kernel_initializer = glorot_uniform(seed=0))(X)\n",
    "    X = BatchNormalization(axis = 3, name = bn_name_base + '2b')(X)\n",
    "    X = Activation('relu')(X)\n",
    "\n",
    "    # Third component of main path\n",
    "    X = Conv2D(F3, (1, 1), strides = (1,1), padding = 'valid', name = conv_name_base + '2c', kernel_initializer = glorot_uniform(seed=0))(X)\n",
    "    X = BatchNormalization(axis = 3, name = bn_name_base + '2c')(X)\n",
    "\n",
    "    ##### SHORTCUT PATH ####\n",
    "    X_shortcut = Conv2D(F3, (1, 1), strides = (s,s), padding = 'valid', name = conv_name_base + '1', kernel_initializer = glorot_uniform(seed=0))(X_shortcut)\n",
    "    X_shortcut = BatchNormalization(axis = 3, name = bn_name_base + '1')(X_shortcut)\n",
    "\n",
    "    # Final step: Add shortcut value to main path, and pass it through a RELU activation\n",
    "    X = Add()([X,X_shortcut])\n",
    "    X = Activation('relu')(X)\n",
    "    \n",
    "    return X"
   ]
  },
  {
   "cell_type": "markdown",
   "metadata": {},
   "source": [
    "### Building deep RESNet-A68 (68 layers)"
   ]
  },
  {
   "cell_type": "markdown",
   "metadata": {},
   "source": [
    "The following Fig. 4 describes in detail the architecture of this neural network. \"ID BLOCK\" in the diagram stands for \"Identity block,\" and \"ID BLOCK x3\" means 3 identity blocks are stacked together. Additionally \"CONV\" stands for \"Convolution Block\".\n",
    "\n",
    "<img src=\"images/4.png\">\n",
    "<caption><center> <u> <font color='purple'> Fig. 4 </u><font color='purple'>  : ResNet-A59 model </center></caption>\n",
    "\n",
    "The details of this ResNet-A68 model are:\n",
    "- Zero-padding pads the input with a pad of (3,3)\n",
    "- Stage 1:\n",
    "    - The 2D Convolution has 64 filters of shape (7,7) and uses a stride of (2,2). Its name is \"conv1\".\n",
    "    - BatchNorm is applied to the 'channels' axis of the input.\n",
    "    - MaxPooling uses a (5,5) window and a (2,2) stride.\n",
    "- Stage 2:\n",
    "    - The convolutional block uses three sets of filters of size [32, 32, 128], \"f\" is 3, \"s\" is 1 and the block is \"a\".\n",
    "    - The 3 identity blocks use three sets of filters of size [32, 32, 128], \"f\" is 3 and the blocks are \"b\" and \"c\".\n",
    "- Stage 3:\n",
    "    - The convolutional block uses three sets of filters of size [64,64,256], \"f\" is 3, \"s\" is 1 and the block is \"a\".\n",
    "    - The 4 identity blocks use three sets of filters of size [64,64,256], \"f\" is 3 and the blocks are \"b\" and \"c\".\n",
    "- Stage 4:\n",
    "    - The convolutional block uses three sets of filters of size [128,128,512], \"f\" is 3, \"s\" is 2 and the block is \"a\".\n",
    "    - The 5 identity blocks use three sets of filters of size [128,128,512], \"f\" is 3 and the blocks are \"b\", \"c\" and \"d\".\n",
    "- Stage 5:\n",
    "    - The convolutional block uses three sets of filters of size [256, 256, 1024], \"f\" is 3, \"s\" is 2 and the block is \"a\".\n",
    "    - The 3 identity blocks use three sets of filters of size [256, 256, 1024], \"f\" is 3 and the blocks are \"b\", \"c\", \"d\", \"e\" and \"f\".\n",
    "- Stage 6:\n",
    "    - The convolutional block uses three sets of filters of size [512, 512, 2048], \"f\" is 3, \"s\" is 2 and the block is \"a\".\n",
    "    - The 2 identity blocks use three sets of filters of size [512, 512, 2048], \"f\" is 3 and the blocks are \"b\" and \"c\".\n",
    "- The 2D Average Pooling uses a window of shape (2,2) and its name is \"avg_pool\".\n",
    "- The 'flatten' layer doesn't have any hyperparameters or name.\n",
    "- The Fully Connected (Dense) layer reduces its input to the number of classes i.e 2 (binary classification) using a softmax activation. Its name is `'fc' + str(classes)`."
   ]
  },
  {
   "cell_type": "code",
   "execution_count": 12,
   "metadata": {},
   "outputs": [],
   "source": [
    "def ResNetA68(input_shape = (256, 256, 3), classes = 2):\n",
    "    \"\"\"\n",
    "    Implementation of the ResNet-A* model has the following architecture:\n",
    "    CONV2D -> BATCHNORM -> RELU -> MAXPOOL -> CONVBLOCK -> IDBLOCK*2 -> CONVBLOCK -> IDBLOCK*3\n",
    "    -> CONVBLOCK -> IDBLOCK*5 -> CONVBLOCK -> IDBLOCK*2 -> AVGPOOL -> TOPLAYER\n",
    "\n",
    "    Arguments:\n",
    "    input_shape -- shape of the images of the dataset\n",
    "    classes -- integer, number of classes\n",
    "\n",
    "    Returns:\n",
    "    model -- a Model() instance in Keras\n",
    "    \"\"\"\n",
    "    \n",
    "    # Define the input as a tensor with shape input_shape\n",
    "    X_input = Input(input_shape)\n",
    "\n",
    "    \n",
    "    # Zero-Padding\n",
    "    X = ZeroPadding2D((3, 3))(X_input)\n",
    "    \n",
    "    # Stage 1\n",
    "    X = Conv2D(64, (7, 7), strides = (2, 2), name = 'conv1', kernel_initializer = glorot_uniform(seed=0))(X)\n",
    "    X = BatchNormalization(axis = 3, name = 'bn_conv1')(X)\n",
    "    X = Activation('relu')(X)\n",
    "    X = MaxPooling2D((5, 5), strides=(2, 2))(X)\n",
    "\n",
    "    # Stage 2\n",
    "    X = convolutional_block(X, f = 3, filters = [32, 32, 128], stage = 2, block='a', s = 1)\n",
    "    X = identity_block(X, 3, [32, 32, 128], stage=2, block='b')\n",
    "    X = identity_block(X, 3, [32, 32, 128], stage=2, block='c')\n",
    "    X = identity_block(X, 3, [32, 32, 128], stage=2, block='d')\n",
    "    \n",
    "    # Stage 3\n",
    "    X = convolutional_block(X, f = 3, filters = [64, 64, 256], stage = 3, block='a', s = 1)\n",
    "    X = identity_block(X, 3, [64, 64, 256], stage=3, block='b')\n",
    "    X = identity_block(X, 3, [64, 64, 256], stage=3, block='c')\n",
    "    X = identity_block(X, 3, [64, 64, 256], stage=3, block='d')\n",
    "    X = identity_block(X, 3, [64, 64, 256], stage=3, block='e')\n",
    "\n",
    "    # Stage 4\n",
    "    X = convolutional_block(X, f = 3, filters = [128, 128, 512], stage = 4, block='a', s = 2)\n",
    "    X = identity_block(X, 3, [128, 128, 512], stage=4, block='b')\n",
    "    X = identity_block(X, 3, [128, 128, 512], stage=4, block='c')\n",
    "    X = identity_block(X, 3, [128, 128, 512], stage=4, block='d')\n",
    "    X = identity_block(X, 3, [128, 128, 512], stage=4, block='e')\n",
    "    X = identity_block(X, 3, [128, 128, 512], stage=4, block='f')\n",
    "\n",
    "    # Stage 5\n",
    "    X = convolutional_block(X, f = 3, filters = [256, 256, 1024], stage = 5, block='a', s = 2)\n",
    "    X = identity_block(X, 3, [256, 256, 1024], stage=5, block='b')\n",
    "    X = identity_block(X, 3, [256, 256, 1024], stage=5, block='c')\n",
    "    X = identity_block(X, 3, [256, 256, 1024], stage=5, block='d')\n",
    "\n",
    "    # Stage 6\n",
    "    X = convolutional_block(X, f = 3, filters = [512, 512, 2048], stage = 6, block='a', s = 2)\n",
    "    X = identity_block(X, 3, [512, 512, 2048], stage=6, block='b')\n",
    "    X = identity_block(X, 3, [512, 512, 2048], stage=6, block='c')\n",
    "\n",
    "    # AVGPOOL\n",
    "    X = AveragePooling2D((2, 2), name = 'avg_pool')(X)\n",
    "\n",
    "    # output layer\n",
    "    X = Flatten()(X)\n",
    "    X = Dense(classes, activation='softmax', name='fc' + str(classes), kernel_initializer = glorot_uniform(seed=0))(X)\n",
    "    \n",
    "    \n",
    "    # Create model\n",
    "    model = Model(inputs = X_input, outputs = X, name='ResNetA68')\n",
    "\n",
    "    return model"
   ]
  },
  {
   "cell_type": "markdown",
   "metadata": {},
   "source": [
    "## Training, Evaluating and Optimising Model"
   ]
  },
  {
   "cell_type": "markdown",
   "metadata": {},
   "source": [
    "### Initalise the model"
   ]
  },
  {
   "cell_type": "code",
   "execution_count": 13,
   "metadata": {},
   "outputs": [],
   "source": [
    "model = ResNetA68(input_shape = (256, 256, 3), classes = 2)"
   ]
  },
  {
   "cell_type": "markdown",
   "metadata": {},
   "source": [
    "### Configure the learning process by compiling the model"
   ]
  },
  {
   "cell_type": "code",
   "execution_count": 14,
   "metadata": {},
   "outputs": [],
   "source": [
    "model.compile(optimizer='adam', loss='categorical_crossentropy', metrics=['accuracy'])"
   ]
  },
  {
   "cell_type": "markdown",
   "metadata": {},
   "source": [
    "### Training the model on 2 epochs with a batch size of 32"
   ]
  },
  {
   "cell_type": "code",
   "execution_count": 15,
   "metadata": {},
   "outputs": [
    {
     "name": "stdout",
     "output_type": "stream",
     "text": [
      "WARNING:tensorflow:From <ipython-input-15-940781c36b48>:1: Model.fit_generator (from tensorflow.python.keras.engine.training) is deprecated and will be removed in a future version.\n",
      "Instructions for updating:\n",
      "Please use Model.fit, which supports generators.\n",
      "Epoch 1/2\n",
      "22/22 [==============================] - 834s 38s/step - loss: 6.0383 - accuracy: 0.4885 - val_loss: 6069776.0000 - val_accuracy: 0.5000\n",
      "Epoch 2/2\n",
      "22/22 [==============================] - 811s 37s/step - loss: 2.7476 - accuracy: 0.4885 - val_loss: 115.7056 - val_accuracy: 0.5100\n"
     ]
    },
    {
     "data": {
      "text/plain": [
       "<tensorflow.python.keras.callbacks.History at 0x6494ac850>"
      ]
     },
     "execution_count": 15,
     "metadata": {},
     "output_type": "execute_result"
    }
   ],
   "source": [
    "model.fit_generator(train_it, epochs = 2, validation_data=val_it)"
   ]
  },
  {
   "cell_type": "markdown",
   "metadata": {},
   "source": [
    "### Save the model and weights of model run on 2 epochs"
   ]
  },
  {
   "cell_type": "code",
   "execution_count": 16,
   "metadata": {},
   "outputs": [],
   "source": [
    "# architecture and weights to HDF5\n",
    "model.save('models/model19/model.h5')\n",
    "\n",
    "# architecture to JSON, weights to HDF5\n",
    "model.save_weights('models/model19/weights.h5')\n",
    "with open('models/model19/architecture.json', 'w') as f:\n",
    "        f.write(model.to_json())"
   ]
  },
  {
   "cell_type": "markdown",
   "metadata": {},
   "source": [
    "**<font color='darkblue'>Note : Multiple model structure were tested and these models along with there weights are stored in \"ch_dir/models/\" directory\n",
    "</font>**"
   ]
  },
  {
   "cell_type": "markdown",
   "metadata": {},
   "source": [
    "### Training the model on 20, 18, 16, 14, 10 epochs with a batch size of 32"
   ]
  },
  {
   "cell_type": "code",
   "execution_count": 17,
   "metadata": {},
   "outputs": [
    {
     "name": "stdout",
     "output_type": "stream",
     "text": [
      "Epoch 1/16\n",
      "22/22 [==============================] - 705s 32s/step - loss: 1.7743 - accuracy: 0.5403 - val_loss: 4.4223 - val_accuracy: 0.5100\n",
      "Epoch 2/16\n",
      "22/22 [==============================] - 648s 29s/step - loss: 0.8215 - accuracy: 0.5663 - val_loss: 6704.4756 - val_accuracy: 0.5000\n",
      "Epoch 3/16\n",
      "22/22 [==============================] - 590s 27s/step - loss: 0.6815 - accuracy: 0.6095 - val_loss: 23.2516 - val_accuracy: 0.5000\n",
      "Epoch 4/16\n",
      "22/22 [==============================] - 603s 27s/step - loss: 0.6797 - accuracy: 0.6729 - val_loss: 0.7147 - val_accuracy: 0.5150\n",
      "Epoch 5/16\n",
      "22/22 [==============================] - 602s 27s/step - loss: 0.5614 - accuracy: 0.7075 - val_loss: 0.6694 - val_accuracy: 0.5650\n",
      "Epoch 6/16\n",
      "22/22 [==============================] - 685s 31s/step - loss: 0.5211 - accuracy: 0.7392 - val_loss: 0.7614 - val_accuracy: 0.5350\n",
      "Epoch 7/16\n",
      "22/22 [==============================] - 712s 32s/step - loss: 0.5104 - accuracy: 0.7320 - val_loss: 0.6099 - val_accuracy: 0.6550\n",
      "Epoch 8/16\n",
      "22/22 [==============================] - 672s 31s/step - loss: 0.5078 - accuracy: 0.7522 - val_loss: 0.7636 - val_accuracy: 0.5550\n",
      "Epoch 9/16\n",
      "22/22 [==============================] - 3872s 176s/step - loss: 0.5230 - accuracy: 0.7349 - val_loss: 0.7710 - val_accuracy: 0.5600\n",
      "Epoch 10/16\n",
      "22/22 [==============================] - 545s 25s/step - loss: 0.5589 - accuracy: 0.7277 - val_loss: 0.8882 - val_accuracy: 0.5700\n",
      "Epoch 11/16\n",
      "22/22 [==============================] - 523s 24s/step - loss: 1.4060 - accuracy: 0.7248 - val_loss: 1.4532 - val_accuracy: 0.5950\n",
      "Epoch 12/16\n",
      "22/22 [==============================] - 531s 24s/step - loss: 2.1876 - accuracy: 0.5893 - val_loss: 1068.8540 - val_accuracy: 0.5000\n",
      "Epoch 13/16\n",
      "22/22 [==============================] - 522s 24s/step - loss: 3.1903 - accuracy: 0.5922 - val_loss: 35.9122 - val_accuracy: 0.5150\n",
      "Epoch 14/16\n",
      "22/22 [==============================] - 510s 23s/step - loss: 1.0599 - accuracy: 0.6066 - val_loss: 3098.8350 - val_accuracy: 0.5000\n",
      "Epoch 15/16\n",
      "22/22 [==============================] - 524s 24s/step - loss: 0.5932 - accuracy: 0.7003 - val_loss: 93.9380 - val_accuracy: 0.5000\n",
      "Epoch 16/16\n",
      "22/22 [==============================] - 532s 24s/step - loss: 1.1742 - accuracy: 0.7320 - val_loss: 44.5106 - val_accuracy: 0.5350\n"
     ]
    },
    {
     "data": {
      "text/plain": [
       "<tensorflow.python.keras.callbacks.History at 0x655f16c90>"
      ]
     },
     "execution_count": 17,
     "metadata": {},
     "output_type": "execute_result"
    }
   ],
   "source": [
    "model.fit_generator(train_it, epochs = 16, validation_data=val_it)"
   ]
  },
  {
   "cell_type": "markdown",
   "metadata": {},
   "source": [
    "### Save the model and weights of model run on 20, 16, 14, 10 epochs"
   ]
  },
  {
   "cell_type": "code",
   "execution_count": 18,
   "metadata": {},
   "outputs": [],
   "source": [
    "# architecture and weights to HDF5\n",
    "model.save('models/model20/model.h5')\n",
    "\n",
    "# architecture to JSON, weights to HDF5\n",
    "model.save_weights('models/model20/weights.h5')\n",
    "with open('models/model20/architecture.json', 'w') as f:\n",
    "        f.write(model.to_json())"
   ]
  },
  {
   "cell_type": "markdown",
   "metadata": {},
   "source": [
    "## Further training the Model15"
   ]
  },
  {
   "cell_type": "markdown",
   "metadata": {},
   "source": [
    "### Loading the model"
   ]
  },
  {
   "cell_type": "code",
   "execution_count": 252,
   "metadata": {},
   "outputs": [],
   "source": [
    "model_F = load_model('models/model15/model.h5')\n",
    "\n",
    "# architecture from JSON, weights from HDF5\n",
    "with open('models/model15/architecture.json') as f:\n",
    "    model_F = model_from_json(f.read())\n",
    "model_F.load_weights('models/model15/weights.h5')"
   ]
  },
  {
   "cell_type": "markdown",
   "metadata": {},
   "source": [
    "### Reducing the learning rate"
   ]
  },
  {
   "cell_type": "code",
   "execution_count": 255,
   "metadata": {},
   "outputs": [],
   "source": [
    "opt = Adam(learning_rate=0.0005)\n",
    "model_F.compile(optimizer=opt, loss='categorical_crossentropy', metrics=['accuracy'])"
   ]
  },
  {
   "cell_type": "markdown",
   "metadata": {},
   "source": [
    "### Training further with lower learning rate"
   ]
  },
  {
   "cell_type": "code",
   "execution_count": 256,
   "metadata": {},
   "outputs": [
    {
     "name": "stdout",
     "output_type": "stream",
     "text": [
      "Epoch 1/2\n",
      "22/22 [==============================] - 567s 26s/step - loss: 0.9155 - accuracy: 0.5389 - val_loss: 0.8866 - val_accuracy: 0.5000\n",
      "Epoch 2/2\n",
      "22/22 [==============================] - 568s 26s/step - loss: 0.9499 - accuracy: 0.5980 - val_loss: 0.7212 - val_accuracy: 0.5250\n"
     ]
    },
    {
     "data": {
      "text/plain": [
       "<tensorflow.python.keras.callbacks.History at 0x7ef00af50>"
      ]
     },
     "execution_count": 256,
     "metadata": {},
     "output_type": "execute_result"
    }
   ],
   "source": [
    "model_F.fit_generator(train_it, epochs = 2, validation_data=val_it)"
   ]
  },
  {
   "cell_type": "code",
   "execution_count": 257,
   "metadata": {},
   "outputs": [
    {
     "name": "stdout",
     "output_type": "stream",
     "text": [
      "Epoch 1/7\n",
      "22/22 [==============================] - 552s 25s/step - loss: 0.8090 - accuracy: 0.6369 - val_loss: 0.9344 - val_accuracy: 0.5700\n",
      "Epoch 2/7\n",
      "22/22 [==============================] - 533s 24s/step - loss: 0.8830 - accuracy: 0.5591 - val_loss: 12579.1152 - val_accuracy: 0.5150\n",
      "Epoch 3/7\n",
      "22/22 [==============================] - 526s 24s/step - loss: 1.1717 - accuracy: 0.5922 - val_loss: 3.5488 - val_accuracy: 0.6050\n",
      "Epoch 4/7\n",
      "22/22 [==============================] - 523s 24s/step - loss: 1.1641 - accuracy: 0.6225 - val_loss: 197.7641 - val_accuracy: 0.5450\n",
      "Epoch 5/7\n",
      "22/22 [==============================] - 524s 24s/step - loss: 1.0915 - accuracy: 0.5259 - val_loss: 18480.4258 - val_accuracy: 0.5200\n",
      "Epoch 6/7\n",
      "22/22 [==============================] - 587s 27s/step - loss: 0.8253 - accuracy: 0.5288 - val_loss: 136.5706 - val_accuracy: 0.6100\n",
      "Epoch 7/7\n",
      "22/22 [==============================] - 531s 24s/step - loss: 0.7314 - accuracy: 0.5490 - val_loss: 7.3080 - val_accuracy: 0.5700\n"
     ]
    },
    {
     "data": {
      "text/plain": [
       "<tensorflow.python.keras.callbacks.History at 0x8201583d0>"
      ]
     },
     "execution_count": 257,
     "metadata": {},
     "output_type": "execute_result"
    }
   ],
   "source": [
    "model_F.fit_generator(train_it, epochs = 7, validation_data=val_it)"
   ]
  },
  {
   "cell_type": "markdown",
   "metadata": {},
   "source": [
    "### Saving the model, weights and architecture"
   ]
  },
  {
   "cell_type": "code",
   "execution_count": 258,
   "metadata": {},
   "outputs": [],
   "source": [
    "# architecture and weights to HDF5\n",
    "model_F.save('models/model16/model.h5')\n",
    "\n",
    "# architecture to JSON, weights to HDF5\n",
    "model_F.save_weights('models/model16/weights.h5')\n",
    "with open('models/model16/architecture.json', 'w') as f:\n",
    "        f.write(model_F.to_json())"
   ]
  },
  {
   "cell_type": "markdown",
   "metadata": {},
   "source": [
    "## Model Summary"
   ]
  },
  {
   "cell_type": "markdown",
   "metadata": {},
   "source": [
    "### Model comparision"
   ]
  },
  {
   "cell_type": "markdown",
   "metadata": {},
   "source": [
    "Loading different models"
   ]
  },
  {
   "cell_type": "code",
   "execution_count": 19,
   "metadata": {},
   "outputs": [
    {
     "name": "stdout",
     "output_type": "stream",
     "text": [
      "WARNING:tensorflow:From <ipython-input-19-db594702e0e8>:12: Model.evaluate_generator (from tensorflow.python.keras.engine.training) is deprecated and will be removed in a future version.\n",
      "Instructions for updating:\n",
      "Please use Model.evaluate, which supports generators.\n"
     ]
    }
   ],
   "source": [
    "models_df = pd.DataFrame(columns=['Model','Accuracy'])\n",
    "for i in range(1,21):\n",
    "    # architecture and weights from HDF5\n",
    "    model_n = load_model('models/model' + str(i) + '/model.h5')\n",
    "\n",
    "    # architecture from JSON, weights from HDF5\n",
    "    with open('models/model' + str(i) + '/architecture.json') as f:\n",
    "        model_n = model_from_json(f.read())\n",
    "    model_n.load_weights('models/model' + str(i) + '/weights.h5')\n",
    "    \n",
    "    model_n.compile(optimizer='adam', loss='categorical_crossentropy', metrics=['accuracy'])\n",
    "    eval = model_n.evaluate_generator(val_it)\n",
    "    models_df =  models_df.append({'Model': 'Model'+str(i), 'Accuracy': eval[1]}, ignore_index=True)"
   ]
  },
  {
   "cell_type": "code",
   "execution_count": 20,
   "metadata": {},
   "outputs": [
    {
     "data": {
      "text/html": [
       "<div>\n",
       "<style scoped>\n",
       "    .dataframe tbody tr th:only-of-type {\n",
       "        vertical-align: middle;\n",
       "    }\n",
       "\n",
       "    .dataframe tbody tr th {\n",
       "        vertical-align: top;\n",
       "    }\n",
       "\n",
       "    .dataframe thead th {\n",
       "        text-align: right;\n",
       "    }\n",
       "</style>\n",
       "<table border=\"1\" class=\"dataframe\">\n",
       "  <thead>\n",
       "    <tr style=\"text-align: right;\">\n",
       "      <th></th>\n",
       "      <th>Model</th>\n",
       "      <th>Accuracy</th>\n",
       "    </tr>\n",
       "  </thead>\n",
       "  <tbody>\n",
       "    <tr>\n",
       "      <th>0</th>\n",
       "      <td>Model1</td>\n",
       "      <td>0.500</td>\n",
       "    </tr>\n",
       "    <tr>\n",
       "      <th>1</th>\n",
       "      <td>Model2</td>\n",
       "      <td>0.500</td>\n",
       "    </tr>\n",
       "    <tr>\n",
       "      <th>2</th>\n",
       "      <td>Model3</td>\n",
       "      <td>0.500</td>\n",
       "    </tr>\n",
       "    <tr>\n",
       "      <th>3</th>\n",
       "      <td>Model4</td>\n",
       "      <td>0.500</td>\n",
       "    </tr>\n",
       "    <tr>\n",
       "      <th>4</th>\n",
       "      <td>Model5</td>\n",
       "      <td>0.500</td>\n",
       "    </tr>\n",
       "    <tr>\n",
       "      <th>5</th>\n",
       "      <td>Model6</td>\n",
       "      <td>0.500</td>\n",
       "    </tr>\n",
       "    <tr>\n",
       "      <th>6</th>\n",
       "      <td>Model7</td>\n",
       "      <td>0.500</td>\n",
       "    </tr>\n",
       "    <tr>\n",
       "      <th>7</th>\n",
       "      <td>Model8</td>\n",
       "      <td>0.505</td>\n",
       "    </tr>\n",
       "    <tr>\n",
       "      <th>8</th>\n",
       "      <td>Model9</td>\n",
       "      <td>0.525</td>\n",
       "    </tr>\n",
       "    <tr>\n",
       "      <th>9</th>\n",
       "      <td>Model10</td>\n",
       "      <td>0.500</td>\n",
       "    </tr>\n",
       "    <tr>\n",
       "      <th>10</th>\n",
       "      <td>Model11</td>\n",
       "      <td>0.625</td>\n",
       "    </tr>\n",
       "    <tr>\n",
       "      <th>11</th>\n",
       "      <td>Model12</td>\n",
       "      <td>0.515</td>\n",
       "    </tr>\n",
       "    <tr>\n",
       "      <th>12</th>\n",
       "      <td>Model13</td>\n",
       "      <td>0.705</td>\n",
       "    </tr>\n",
       "    <tr>\n",
       "      <th>13</th>\n",
       "      <td>Model14</td>\n",
       "      <td>0.500</td>\n",
       "    </tr>\n",
       "    <tr>\n",
       "      <th>14</th>\n",
       "      <td>Model15</td>\n",
       "      <td>0.560</td>\n",
       "    </tr>\n",
       "    <tr>\n",
       "      <th>15</th>\n",
       "      <td>Model16</td>\n",
       "      <td>0.570</td>\n",
       "    </tr>\n",
       "    <tr>\n",
       "      <th>16</th>\n",
       "      <td>Model17</td>\n",
       "      <td>0.535</td>\n",
       "    </tr>\n",
       "    <tr>\n",
       "      <th>17</th>\n",
       "      <td>Model18</td>\n",
       "      <td>0.565</td>\n",
       "    </tr>\n",
       "    <tr>\n",
       "      <th>18</th>\n",
       "      <td>Model19</td>\n",
       "      <td>0.510</td>\n",
       "    </tr>\n",
       "    <tr>\n",
       "      <th>19</th>\n",
       "      <td>Model20</td>\n",
       "      <td>0.535</td>\n",
       "    </tr>\n",
       "  </tbody>\n",
       "</table>\n",
       "</div>"
      ],
      "text/plain": [
       "      Model  Accuracy\n",
       "0    Model1     0.500\n",
       "1    Model2     0.500\n",
       "2    Model3     0.500\n",
       "3    Model4     0.500\n",
       "4    Model5     0.500\n",
       "5    Model6     0.500\n",
       "6    Model7     0.500\n",
       "7    Model8     0.505\n",
       "8    Model9     0.525\n",
       "9   Model10     0.500\n",
       "10  Model11     0.625\n",
       "11  Model12     0.515\n",
       "12  Model13     0.705\n",
       "13  Model14     0.500\n",
       "14  Model15     0.560\n",
       "15  Model16     0.570\n",
       "16  Model17     0.535\n",
       "17  Model18     0.565\n",
       "18  Model19     0.510\n",
       "19  Model20     0.535"
      ]
     },
     "execution_count": 20,
     "metadata": {},
     "output_type": "execute_result"
    }
   ],
   "source": [
    "models_df"
   ]
  },
  {
   "cell_type": "markdown",
   "metadata": {},
   "source": [
    "### Loading the model with best validation accuracy i.e Model13"
   ]
  },
  {
   "cell_type": "code",
   "execution_count": 278,
   "metadata": {},
   "outputs": [],
   "source": [
    "model13 = load_model('models/model13/model.h5')\n",
    "\n",
    "# architecture from JSON, weights from HDF5\n",
    "with open('models/model13/architecture.json') as f:\n",
    "    model13 = model_from_json(f.read())\n",
    "model13.load_weights('models/model13/weights.h5')"
   ]
  },
  {
   "cell_type": "markdown",
   "metadata": {},
   "source": [
    "### Summary"
   ]
  },
  {
   "cell_type": "code",
   "execution_count": 280,
   "metadata": {},
   "outputs": [
    {
     "name": "stdout",
     "output_type": "stream",
     "text": [
      "Model: \"ResNetA68\"\n",
      "__________________________________________________________________________________________________\n",
      "Layer (type)                    Output Shape         Param #     Connected to                     \n",
      "==================================================================================================\n",
      "input_7 (InputLayer)            [(None, 256, 256, 3) 0                                            \n",
      "__________________________________________________________________________________________________\n",
      "zero_padding2d_6 (ZeroPadding2D (None, 262, 262, 3)  0           input_7[0][0]                    \n",
      "__________________________________________________________________________________________________\n",
      "conv1 (Conv2D)                  (None, 128, 128, 64) 9472        zero_padding2d_6[0][0]           \n",
      "__________________________________________________________________________________________________\n",
      "bn_conv1 (BatchNormalization)   (None, 128, 128, 64) 256         conv1[0][0]                      \n",
      "__________________________________________________________________________________________________\n",
      "activation_348 (Activation)     (None, 128, 128, 64) 0           bn_conv1[0][0]                   \n",
      "__________________________________________________________________________________________________\n",
      "max_pooling2d_6 (MaxPooling2D)  (None, 62, 62, 64)   0           activation_348[0][0]             \n",
      "__________________________________________________________________________________________________\n",
      "res2a_branch2a (Conv2D)         (None, 62, 62, 128)  8320        max_pooling2d_6[0][0]            \n",
      "__________________________________________________________________________________________________\n",
      "bn2a_branch2a (BatchNormalizati (None, 62, 62, 128)  512         res2a_branch2a[0][0]             \n",
      "__________________________________________________________________________________________________\n",
      "activation_349 (Activation)     (None, 62, 62, 128)  0           bn2a_branch2a[0][0]              \n",
      "__________________________________________________________________________________________________\n",
      "res2a_branch2b (Conv2D)         (None, 62, 62, 128)  147584      activation_349[0][0]             \n",
      "__________________________________________________________________________________________________\n",
      "bn2a_branch2b (BatchNormalizati (None, 62, 62, 128)  512         res2a_branch2b[0][0]             \n",
      "__________________________________________________________________________________________________\n",
      "activation_350 (Activation)     (None, 62, 62, 128)  0           bn2a_branch2b[0][0]              \n",
      "__________________________________________________________________________________________________\n",
      "res2a_branch2c (Conv2D)         (None, 62, 62, 256)  33024       activation_350[0][0]             \n",
      "__________________________________________________________________________________________________\n",
      "res2a_branch1 (Conv2D)          (None, 62, 62, 256)  16640       max_pooling2d_6[0][0]            \n",
      "__________________________________________________________________________________________________\n",
      "bn2a_branch2c (BatchNormalizati (None, 62, 62, 256)  1024        res2a_branch2c[0][0]             \n",
      "__________________________________________________________________________________________________\n",
      "bn2a_branch1 (BatchNormalizatio (None, 62, 62, 256)  1024        res2a_branch1[0][0]              \n",
      "__________________________________________________________________________________________________\n",
      "add_114 (Add)                   (None, 62, 62, 256)  0           bn2a_branch2c[0][0]              \n",
      "                                                                 bn2a_branch1[0][0]               \n",
      "__________________________________________________________________________________________________\n",
      "activation_351 (Activation)     (None, 62, 62, 256)  0           add_114[0][0]                    \n",
      "__________________________________________________________________________________________________\n",
      "res2b_branch2a (Conv2D)         (None, 62, 62, 128)  32896       activation_351[0][0]             \n",
      "__________________________________________________________________________________________________\n",
      "bn2b_branch2a (BatchNormalizati (None, 62, 62, 128)  512         res2b_branch2a[0][0]             \n",
      "__________________________________________________________________________________________________\n",
      "activation_352 (Activation)     (None, 62, 62, 128)  0           bn2b_branch2a[0][0]              \n",
      "__________________________________________________________________________________________________\n",
      "res2b_branch2b (Conv2D)         (None, 62, 62, 128)  147584      activation_352[0][0]             \n",
      "__________________________________________________________________________________________________\n",
      "bn2b_branch2b (BatchNormalizati (None, 62, 62, 128)  512         res2b_branch2b[0][0]             \n",
      "__________________________________________________________________________________________________\n",
      "activation_353 (Activation)     (None, 62, 62, 128)  0           bn2b_branch2b[0][0]              \n",
      "__________________________________________________________________________________________________\n",
      "res2b_branch2c (Conv2D)         (None, 62, 62, 256)  33024       activation_353[0][0]             \n",
      "__________________________________________________________________________________________________\n",
      "bn2b_branch2c (BatchNormalizati (None, 62, 62, 256)  1024        res2b_branch2c[0][0]             \n",
      "__________________________________________________________________________________________________\n",
      "add_115 (Add)                   (None, 62, 62, 256)  0           bn2b_branch2c[0][0]              \n",
      "                                                                 activation_351[0][0]             \n",
      "__________________________________________________________________________________________________\n",
      "activation_354 (Activation)     (None, 62, 62, 256)  0           add_115[0][0]                    \n",
      "__________________________________________________________________________________________________\n",
      "res2c_branch2a (Conv2D)         (None, 62, 62, 128)  32896       activation_354[0][0]             \n",
      "__________________________________________________________________________________________________\n",
      "bn2c_branch2a (BatchNormalizati (None, 62, 62, 128)  512         res2c_branch2a[0][0]             \n",
      "__________________________________________________________________________________________________\n",
      "activation_355 (Activation)     (None, 62, 62, 128)  0           bn2c_branch2a[0][0]              \n",
      "__________________________________________________________________________________________________\n",
      "res2c_branch2b (Conv2D)         (None, 62, 62, 128)  147584      activation_355[0][0]             \n",
      "__________________________________________________________________________________________________\n",
      "bn2c_branch2b (BatchNormalizati (None, 62, 62, 128)  512         res2c_branch2b[0][0]             \n",
      "__________________________________________________________________________________________________\n",
      "activation_356 (Activation)     (None, 62, 62, 128)  0           bn2c_branch2b[0][0]              \n",
      "__________________________________________________________________________________________________\n",
      "res2c_branch2c (Conv2D)         (None, 62, 62, 256)  33024       activation_356[0][0]             \n",
      "__________________________________________________________________________________________________\n",
      "bn2c_branch2c (BatchNormalizati (None, 62, 62, 256)  1024        res2c_branch2c[0][0]             \n",
      "__________________________________________________________________________________________________\n",
      "add_116 (Add)                   (None, 62, 62, 256)  0           bn2c_branch2c[0][0]              \n",
      "                                                                 activation_354[0][0]             \n",
      "__________________________________________________________________________________________________\n",
      "activation_357 (Activation)     (None, 62, 62, 256)  0           add_116[0][0]                    \n",
      "__________________________________________________________________________________________________\n",
      "res2d_branch2a (Conv2D)         (None, 62, 62, 128)  32896       activation_357[0][0]             \n",
      "__________________________________________________________________________________________________\n",
      "bn2d_branch2a (BatchNormalizati (None, 62, 62, 128)  512         res2d_branch2a[0][0]             \n",
      "__________________________________________________________________________________________________\n",
      "activation_358 (Activation)     (None, 62, 62, 128)  0           bn2d_branch2a[0][0]              \n",
      "__________________________________________________________________________________________________\n",
      "res2d_branch2b (Conv2D)         (None, 62, 62, 128)  147584      activation_358[0][0]             \n",
      "__________________________________________________________________________________________________\n",
      "bn2d_branch2b (BatchNormalizati (None, 62, 62, 128)  512         res2d_branch2b[0][0]             \n",
      "__________________________________________________________________________________________________\n",
      "activation_359 (Activation)     (None, 62, 62, 128)  0           bn2d_branch2b[0][0]              \n",
      "__________________________________________________________________________________________________\n",
      "res2d_branch2c (Conv2D)         (None, 62, 62, 256)  33024       activation_359[0][0]             \n",
      "__________________________________________________________________________________________________\n",
      "bn2d_branch2c (BatchNormalizati (None, 62, 62, 256)  1024        res2d_branch2c[0][0]             \n",
      "__________________________________________________________________________________________________\n",
      "add_117 (Add)                   (None, 62, 62, 256)  0           bn2d_branch2c[0][0]              \n",
      "                                                                 activation_357[0][0]             \n",
      "__________________________________________________________________________________________________\n",
      "activation_360 (Activation)     (None, 62, 62, 256)  0           add_117[0][0]                    \n",
      "__________________________________________________________________________________________________\n",
      "res3a_branch2a (Conv2D)         (None, 31, 31, 128)  32896       activation_360[0][0]             \n",
      "__________________________________________________________________________________________________\n",
      "bn3a_branch2a (BatchNormalizati (None, 31, 31, 128)  512         res3a_branch2a[0][0]             \n",
      "__________________________________________________________________________________________________\n",
      "activation_361 (Activation)     (None, 31, 31, 128)  0           bn3a_branch2a[0][0]              \n",
      "__________________________________________________________________________________________________\n",
      "res3a_branch2b (Conv2D)         (None, 31, 31, 128)  147584      activation_361[0][0]             \n",
      "__________________________________________________________________________________________________\n",
      "bn3a_branch2b (BatchNormalizati (None, 31, 31, 128)  512         res3a_branch2b[0][0]             \n",
      "__________________________________________________________________________________________________\n",
      "activation_362 (Activation)     (None, 31, 31, 128)  0           bn3a_branch2b[0][0]              \n",
      "__________________________________________________________________________________________________\n",
      "res3a_branch2c (Conv2D)         (None, 31, 31, 512)  66048       activation_362[0][0]             \n",
      "__________________________________________________________________________________________________\n",
      "res3a_branch1 (Conv2D)          (None, 31, 31, 512)  131584      activation_360[0][0]             \n",
      "__________________________________________________________________________________________________\n",
      "bn3a_branch2c (BatchNormalizati (None, 31, 31, 512)  2048        res3a_branch2c[0][0]             \n",
      "__________________________________________________________________________________________________\n",
      "bn3a_branch1 (BatchNormalizatio (None, 31, 31, 512)  2048        res3a_branch1[0][0]              \n",
      "__________________________________________________________________________________________________\n",
      "add_118 (Add)                   (None, 31, 31, 512)  0           bn3a_branch2c[0][0]              \n",
      "                                                                 bn3a_branch1[0][0]               \n",
      "__________________________________________________________________________________________________\n",
      "activation_363 (Activation)     (None, 31, 31, 512)  0           add_118[0][0]                    \n",
      "__________________________________________________________________________________________________\n",
      "res3b_branch2a (Conv2D)         (None, 31, 31, 128)  65664       activation_363[0][0]             \n",
      "__________________________________________________________________________________________________\n",
      "bn3b_branch2a (BatchNormalizati (None, 31, 31, 128)  512         res3b_branch2a[0][0]             \n",
      "__________________________________________________________________________________________________\n",
      "activation_364 (Activation)     (None, 31, 31, 128)  0           bn3b_branch2a[0][0]              \n",
      "__________________________________________________________________________________________________\n",
      "res3b_branch2b (Conv2D)         (None, 31, 31, 128)  147584      activation_364[0][0]             \n",
      "__________________________________________________________________________________________________\n",
      "bn3b_branch2b (BatchNormalizati (None, 31, 31, 128)  512         res3b_branch2b[0][0]             \n",
      "__________________________________________________________________________________________________\n",
      "activation_365 (Activation)     (None, 31, 31, 128)  0           bn3b_branch2b[0][0]              \n",
      "__________________________________________________________________________________________________\n",
      "res3b_branch2c (Conv2D)         (None, 31, 31, 512)  66048       activation_365[0][0]             \n",
      "__________________________________________________________________________________________________\n",
      "bn3b_branch2c (BatchNormalizati (None, 31, 31, 512)  2048        res3b_branch2c[0][0]             \n",
      "__________________________________________________________________________________________________\n",
      "add_119 (Add)                   (None, 31, 31, 512)  0           bn3b_branch2c[0][0]              \n",
      "                                                                 activation_363[0][0]             \n",
      "__________________________________________________________________________________________________\n",
      "activation_366 (Activation)     (None, 31, 31, 512)  0           add_119[0][0]                    \n",
      "__________________________________________________________________________________________________\n",
      "res3c_branch2a (Conv2D)         (None, 31, 31, 128)  65664       activation_366[0][0]             \n",
      "__________________________________________________________________________________________________\n",
      "bn3c_branch2a (BatchNormalizati (None, 31, 31, 128)  512         res3c_branch2a[0][0]             \n",
      "__________________________________________________________________________________________________\n",
      "activation_367 (Activation)     (None, 31, 31, 128)  0           bn3c_branch2a[0][0]              \n",
      "__________________________________________________________________________________________________\n",
      "res3c_branch2b (Conv2D)         (None, 31, 31, 128)  147584      activation_367[0][0]             \n",
      "__________________________________________________________________________________________________\n",
      "bn3c_branch2b (BatchNormalizati (None, 31, 31, 128)  512         res3c_branch2b[0][0]             \n",
      "__________________________________________________________________________________________________\n",
      "activation_368 (Activation)     (None, 31, 31, 128)  0           bn3c_branch2b[0][0]              \n",
      "__________________________________________________________________________________________________\n",
      "res3c_branch2c (Conv2D)         (None, 31, 31, 512)  66048       activation_368[0][0]             \n",
      "__________________________________________________________________________________________________\n",
      "bn3c_branch2c (BatchNormalizati (None, 31, 31, 512)  2048        res3c_branch2c[0][0]             \n",
      "__________________________________________________________________________________________________\n",
      "add_120 (Add)                   (None, 31, 31, 512)  0           bn3c_branch2c[0][0]              \n",
      "                                                                 activation_366[0][0]             \n",
      "__________________________________________________________________________________________________\n",
      "activation_369 (Activation)     (None, 31, 31, 512)  0           add_120[0][0]                    \n",
      "__________________________________________________________________________________________________\n",
      "res3d_branch2a (Conv2D)         (None, 31, 31, 128)  65664       activation_369[0][0]             \n",
      "__________________________________________________________________________________________________\n",
      "bn3d_branch2a (BatchNormalizati (None, 31, 31, 128)  512         res3d_branch2a[0][0]             \n",
      "__________________________________________________________________________________________________\n",
      "activation_370 (Activation)     (None, 31, 31, 128)  0           bn3d_branch2a[0][0]              \n",
      "__________________________________________________________________________________________________\n",
      "res3d_branch2b (Conv2D)         (None, 31, 31, 128)  147584      activation_370[0][0]             \n",
      "__________________________________________________________________________________________________\n",
      "bn3d_branch2b (BatchNormalizati (None, 31, 31, 128)  512         res3d_branch2b[0][0]             \n",
      "__________________________________________________________________________________________________\n",
      "activation_371 (Activation)     (None, 31, 31, 128)  0           bn3d_branch2b[0][0]              \n",
      "__________________________________________________________________________________________________\n",
      "res3d_branch2c (Conv2D)         (None, 31, 31, 512)  66048       activation_371[0][0]             \n",
      "__________________________________________________________________________________________________\n",
      "bn3d_branch2c (BatchNormalizati (None, 31, 31, 512)  2048        res3d_branch2c[0][0]             \n",
      "__________________________________________________________________________________________________\n",
      "add_121 (Add)                   (None, 31, 31, 512)  0           bn3d_branch2c[0][0]              \n",
      "                                                                 activation_369[0][0]             \n",
      "__________________________________________________________________________________________________\n",
      "activation_372 (Activation)     (None, 31, 31, 512)  0           add_121[0][0]                    \n",
      "__________________________________________________________________________________________________\n",
      "res3e_branch2a (Conv2D)         (None, 31, 31, 128)  65664       activation_372[0][0]             \n",
      "__________________________________________________________________________________________________\n",
      "bn3e_branch2a (BatchNormalizati (None, 31, 31, 128)  512         res3e_branch2a[0][0]             \n",
      "__________________________________________________________________________________________________\n",
      "activation_373 (Activation)     (None, 31, 31, 128)  0           bn3e_branch2a[0][0]              \n",
      "__________________________________________________________________________________________________\n",
      "res3e_branch2b (Conv2D)         (None, 31, 31, 128)  147584      activation_373[0][0]             \n",
      "__________________________________________________________________________________________________\n",
      "bn3e_branch2b (BatchNormalizati (None, 31, 31, 128)  512         res3e_branch2b[0][0]             \n",
      "__________________________________________________________________________________________________\n",
      "activation_374 (Activation)     (None, 31, 31, 128)  0           bn3e_branch2b[0][0]              \n",
      "__________________________________________________________________________________________________\n",
      "res3e_branch2c (Conv2D)         (None, 31, 31, 512)  66048       activation_374[0][0]             \n",
      "__________________________________________________________________________________________________\n",
      "bn3e_branch2c (BatchNormalizati (None, 31, 31, 512)  2048        res3e_branch2c[0][0]             \n",
      "__________________________________________________________________________________________________\n",
      "add_122 (Add)                   (None, 31, 31, 512)  0           bn3e_branch2c[0][0]              \n",
      "                                                                 activation_372[0][0]             \n",
      "__________________________________________________________________________________________________\n",
      "activation_375 (Activation)     (None, 31, 31, 512)  0           add_122[0][0]                    \n",
      "__________________________________________________________________________________________________\n",
      "res4a_branch2a (Conv2D)         (None, 16, 16, 256)  131328      activation_375[0][0]             \n",
      "__________________________________________________________________________________________________\n",
      "bn4a_branch2a (BatchNormalizati (None, 16, 16, 256)  1024        res4a_branch2a[0][0]             \n",
      "__________________________________________________________________________________________________\n",
      "activation_376 (Activation)     (None, 16, 16, 256)  0           bn4a_branch2a[0][0]              \n",
      "__________________________________________________________________________________________________\n",
      "res4a_branch2b (Conv2D)         (None, 16, 16, 256)  590080      activation_376[0][0]             \n",
      "__________________________________________________________________________________________________\n",
      "bn4a_branch2b (BatchNormalizati (None, 16, 16, 256)  1024        res4a_branch2b[0][0]             \n",
      "__________________________________________________________________________________________________\n",
      "activation_377 (Activation)     (None, 16, 16, 256)  0           bn4a_branch2b[0][0]              \n",
      "__________________________________________________________________________________________________\n",
      "res4a_branch2c (Conv2D)         (None, 16, 16, 1024) 263168      activation_377[0][0]             \n",
      "__________________________________________________________________________________________________\n",
      "res4a_branch1 (Conv2D)          (None, 16, 16, 1024) 525312      activation_375[0][0]             \n",
      "__________________________________________________________________________________________________\n",
      "bn4a_branch2c (BatchNormalizati (None, 16, 16, 1024) 4096        res4a_branch2c[0][0]             \n",
      "__________________________________________________________________________________________________\n",
      "bn4a_branch1 (BatchNormalizatio (None, 16, 16, 1024) 4096        res4a_branch1[0][0]              \n",
      "__________________________________________________________________________________________________\n",
      "add_123 (Add)                   (None, 16, 16, 1024) 0           bn4a_branch2c[0][0]              \n",
      "                                                                 bn4a_branch1[0][0]               \n",
      "__________________________________________________________________________________________________\n",
      "activation_378 (Activation)     (None, 16, 16, 1024) 0           add_123[0][0]                    \n",
      "__________________________________________________________________________________________________\n",
      "res4b_branch2a (Conv2D)         (None, 16, 16, 256)  262400      activation_378[0][0]             \n",
      "__________________________________________________________________________________________________\n",
      "bn4b_branch2a (BatchNormalizati (None, 16, 16, 256)  1024        res4b_branch2a[0][0]             \n",
      "__________________________________________________________________________________________________\n",
      "activation_379 (Activation)     (None, 16, 16, 256)  0           bn4b_branch2a[0][0]              \n",
      "__________________________________________________________________________________________________\n",
      "res4b_branch2b (Conv2D)         (None, 16, 16, 256)  590080      activation_379[0][0]             \n",
      "__________________________________________________________________________________________________\n",
      "bn4b_branch2b (BatchNormalizati (None, 16, 16, 256)  1024        res4b_branch2b[0][0]             \n",
      "__________________________________________________________________________________________________\n",
      "activation_380 (Activation)     (None, 16, 16, 256)  0           bn4b_branch2b[0][0]              \n",
      "__________________________________________________________________________________________________\n",
      "res4b_branch2c (Conv2D)         (None, 16, 16, 1024) 263168      activation_380[0][0]             \n",
      "__________________________________________________________________________________________________\n",
      "bn4b_branch2c (BatchNormalizati (None, 16, 16, 1024) 4096        res4b_branch2c[0][0]             \n",
      "__________________________________________________________________________________________________\n",
      "add_124 (Add)                   (None, 16, 16, 1024) 0           bn4b_branch2c[0][0]              \n",
      "                                                                 activation_378[0][0]             \n",
      "__________________________________________________________________________________________________\n",
      "activation_381 (Activation)     (None, 16, 16, 1024) 0           add_124[0][0]                    \n",
      "__________________________________________________________________________________________________\n",
      "res4c_branch2a (Conv2D)         (None, 16, 16, 256)  262400      activation_381[0][0]             \n",
      "__________________________________________________________________________________________________\n",
      "bn4c_branch2a (BatchNormalizati (None, 16, 16, 256)  1024        res4c_branch2a[0][0]             \n",
      "__________________________________________________________________________________________________\n",
      "activation_382 (Activation)     (None, 16, 16, 256)  0           bn4c_branch2a[0][0]              \n",
      "__________________________________________________________________________________________________\n",
      "res4c_branch2b (Conv2D)         (None, 16, 16, 256)  590080      activation_382[0][0]             \n",
      "__________________________________________________________________________________________________\n",
      "bn4c_branch2b (BatchNormalizati (None, 16, 16, 256)  1024        res4c_branch2b[0][0]             \n",
      "__________________________________________________________________________________________________\n",
      "activation_383 (Activation)     (None, 16, 16, 256)  0           bn4c_branch2b[0][0]              \n",
      "__________________________________________________________________________________________________\n",
      "res4c_branch2c (Conv2D)         (None, 16, 16, 1024) 263168      activation_383[0][0]             \n",
      "__________________________________________________________________________________________________\n",
      "bn4c_branch2c (BatchNormalizati (None, 16, 16, 1024) 4096        res4c_branch2c[0][0]             \n",
      "__________________________________________________________________________________________________\n",
      "add_125 (Add)                   (None, 16, 16, 1024) 0           bn4c_branch2c[0][0]              \n",
      "                                                                 activation_381[0][0]             \n",
      "__________________________________________________________________________________________________\n",
      "activation_384 (Activation)     (None, 16, 16, 1024) 0           add_125[0][0]                    \n",
      "__________________________________________________________________________________________________\n",
      "res4d_branch2a (Conv2D)         (None, 16, 16, 256)  262400      activation_384[0][0]             \n",
      "__________________________________________________________________________________________________\n",
      "bn4d_branch2a (BatchNormalizati (None, 16, 16, 256)  1024        res4d_branch2a[0][0]             \n",
      "__________________________________________________________________________________________________\n",
      "activation_385 (Activation)     (None, 16, 16, 256)  0           bn4d_branch2a[0][0]              \n",
      "__________________________________________________________________________________________________\n",
      "res4d_branch2b (Conv2D)         (None, 16, 16, 256)  590080      activation_385[0][0]             \n",
      "__________________________________________________________________________________________________\n",
      "bn4d_branch2b (BatchNormalizati (None, 16, 16, 256)  1024        res4d_branch2b[0][0]             \n",
      "__________________________________________________________________________________________________\n",
      "activation_386 (Activation)     (None, 16, 16, 256)  0           bn4d_branch2b[0][0]              \n",
      "__________________________________________________________________________________________________\n",
      "res4d_branch2c (Conv2D)         (None, 16, 16, 1024) 263168      activation_386[0][0]             \n",
      "__________________________________________________________________________________________________\n",
      "bn4d_branch2c (BatchNormalizati (None, 16, 16, 1024) 4096        res4d_branch2c[0][0]             \n",
      "__________________________________________________________________________________________________\n",
      "add_126 (Add)                   (None, 16, 16, 1024) 0           bn4d_branch2c[0][0]              \n",
      "                                                                 activation_384[0][0]             \n",
      "__________________________________________________________________________________________________\n",
      "activation_387 (Activation)     (None, 16, 16, 1024) 0           add_126[0][0]                    \n",
      "__________________________________________________________________________________________________\n",
      "res4e_branch2a (Conv2D)         (None, 16, 16, 256)  262400      activation_387[0][0]             \n",
      "__________________________________________________________________________________________________\n",
      "bn4e_branch2a (BatchNormalizati (None, 16, 16, 256)  1024        res4e_branch2a[0][0]             \n",
      "__________________________________________________________________________________________________\n",
      "activation_388 (Activation)     (None, 16, 16, 256)  0           bn4e_branch2a[0][0]              \n",
      "__________________________________________________________________________________________________\n",
      "res4e_branch2b (Conv2D)         (None, 16, 16, 256)  590080      activation_388[0][0]             \n",
      "__________________________________________________________________________________________________\n",
      "bn4e_branch2b (BatchNormalizati (None, 16, 16, 256)  1024        res4e_branch2b[0][0]             \n",
      "__________________________________________________________________________________________________\n",
      "activation_389 (Activation)     (None, 16, 16, 256)  0           bn4e_branch2b[0][0]              \n",
      "__________________________________________________________________________________________________\n",
      "res4e_branch2c (Conv2D)         (None, 16, 16, 1024) 263168      activation_389[0][0]             \n",
      "__________________________________________________________________________________________________\n",
      "bn4e_branch2c (BatchNormalizati (None, 16, 16, 1024) 4096        res4e_branch2c[0][0]             \n",
      "__________________________________________________________________________________________________\n",
      "add_127 (Add)                   (None, 16, 16, 1024) 0           bn4e_branch2c[0][0]              \n",
      "                                                                 activation_387[0][0]             \n",
      "__________________________________________________________________________________________________\n",
      "activation_390 (Activation)     (None, 16, 16, 1024) 0           add_127[0][0]                    \n",
      "__________________________________________________________________________________________________\n",
      "res4f_branch2a (Conv2D)         (None, 16, 16, 256)  262400      activation_390[0][0]             \n",
      "__________________________________________________________________________________________________\n",
      "bn4f_branch2a (BatchNormalizati (None, 16, 16, 256)  1024        res4f_branch2a[0][0]             \n",
      "__________________________________________________________________________________________________\n",
      "activation_391 (Activation)     (None, 16, 16, 256)  0           bn4f_branch2a[0][0]              \n",
      "__________________________________________________________________________________________________\n",
      "res4f_branch2b (Conv2D)         (None, 16, 16, 256)  590080      activation_391[0][0]             \n",
      "__________________________________________________________________________________________________\n",
      "bn4f_branch2b (BatchNormalizati (None, 16, 16, 256)  1024        res4f_branch2b[0][0]             \n",
      "__________________________________________________________________________________________________\n",
      "activation_392 (Activation)     (None, 16, 16, 256)  0           bn4f_branch2b[0][0]              \n",
      "__________________________________________________________________________________________________\n",
      "res4f_branch2c (Conv2D)         (None, 16, 16, 1024) 263168      activation_392[0][0]             \n",
      "__________________________________________________________________________________________________\n",
      "bn4f_branch2c (BatchNormalizati (None, 16, 16, 1024) 4096        res4f_branch2c[0][0]             \n",
      "__________________________________________________________________________________________________\n",
      "add_128 (Add)                   (None, 16, 16, 1024) 0           bn4f_branch2c[0][0]              \n",
      "                                                                 activation_390[0][0]             \n",
      "__________________________________________________________________________________________________\n",
      "activation_393 (Activation)     (None, 16, 16, 1024) 0           add_128[0][0]                    \n",
      "__________________________________________________________________________________________________\n",
      "res5a_branch2a (Conv2D)         (None, 8, 8, 512)    524800      activation_393[0][0]             \n",
      "__________________________________________________________________________________________________\n",
      "bn5a_branch2a (BatchNormalizati (None, 8, 8, 512)    2048        res5a_branch2a[0][0]             \n",
      "__________________________________________________________________________________________________\n",
      "activation_394 (Activation)     (None, 8, 8, 512)    0           bn5a_branch2a[0][0]              \n",
      "__________________________________________________________________________________________________\n",
      "res5a_branch2b (Conv2D)         (None, 8, 8, 512)    2359808     activation_394[0][0]             \n",
      "__________________________________________________________________________________________________\n",
      "bn5a_branch2b (BatchNormalizati (None, 8, 8, 512)    2048        res5a_branch2b[0][0]             \n",
      "__________________________________________________________________________________________________\n",
      "activation_395 (Activation)     (None, 8, 8, 512)    0           bn5a_branch2b[0][0]              \n",
      "__________________________________________________________________________________________________\n",
      "res5a_branch2c (Conv2D)         (None, 8, 8, 2048)   1050624     activation_395[0][0]             \n",
      "__________________________________________________________________________________________________\n",
      "res5a_branch1 (Conv2D)          (None, 8, 8, 2048)   2099200     activation_393[0][0]             \n",
      "__________________________________________________________________________________________________\n",
      "bn5a_branch2c (BatchNormalizati (None, 8, 8, 2048)   8192        res5a_branch2c[0][0]             \n",
      "__________________________________________________________________________________________________\n",
      "bn5a_branch1 (BatchNormalizatio (None, 8, 8, 2048)   8192        res5a_branch1[0][0]              \n",
      "__________________________________________________________________________________________________\n",
      "add_129 (Add)                   (None, 8, 8, 2048)   0           bn5a_branch2c[0][0]              \n",
      "                                                                 bn5a_branch1[0][0]               \n",
      "__________________________________________________________________________________________________\n",
      "activation_396 (Activation)     (None, 8, 8, 2048)   0           add_129[0][0]                    \n",
      "__________________________________________________________________________________________________\n",
      "res5b_branch2a (Conv2D)         (None, 8, 8, 512)    1049088     activation_396[0][0]             \n",
      "__________________________________________________________________________________________________\n",
      "bn5b_branch2a (BatchNormalizati (None, 8, 8, 512)    2048        res5b_branch2a[0][0]             \n",
      "__________________________________________________________________________________________________\n",
      "activation_397 (Activation)     (None, 8, 8, 512)    0           bn5b_branch2a[0][0]              \n",
      "__________________________________________________________________________________________________\n",
      "res5b_branch2b (Conv2D)         (None, 8, 8, 512)    2359808     activation_397[0][0]             \n",
      "__________________________________________________________________________________________________\n",
      "bn5b_branch2b (BatchNormalizati (None, 8, 8, 512)    2048        res5b_branch2b[0][0]             \n",
      "__________________________________________________________________________________________________\n",
      "activation_398 (Activation)     (None, 8, 8, 512)    0           bn5b_branch2b[0][0]              \n",
      "__________________________________________________________________________________________________\n",
      "res5b_branch2c (Conv2D)         (None, 8, 8, 2048)   1050624     activation_398[0][0]             \n",
      "__________________________________________________________________________________________________\n",
      "bn5b_branch2c (BatchNormalizati (None, 8, 8, 2048)   8192        res5b_branch2c[0][0]             \n",
      "__________________________________________________________________________________________________\n",
      "add_130 (Add)                   (None, 8, 8, 2048)   0           bn5b_branch2c[0][0]              \n",
      "                                                                 activation_396[0][0]             \n",
      "__________________________________________________________________________________________________\n",
      "activation_399 (Activation)     (None, 8, 8, 2048)   0           add_130[0][0]                    \n",
      "__________________________________________________________________________________________________\n",
      "res5c_branch2a (Conv2D)         (None, 8, 8, 512)    1049088     activation_399[0][0]             \n",
      "__________________________________________________________________________________________________\n",
      "bn5c_branch2a (BatchNormalizati (None, 8, 8, 512)    2048        res5c_branch2a[0][0]             \n",
      "__________________________________________________________________________________________________\n",
      "activation_400 (Activation)     (None, 8, 8, 512)    0           bn5c_branch2a[0][0]              \n",
      "__________________________________________________________________________________________________\n",
      "res5c_branch2b (Conv2D)         (None, 8, 8, 512)    2359808     activation_400[0][0]             \n",
      "__________________________________________________________________________________________________\n",
      "bn5c_branch2b (BatchNormalizati (None, 8, 8, 512)    2048        res5c_branch2b[0][0]             \n",
      "__________________________________________________________________________________________________\n",
      "activation_401 (Activation)     (None, 8, 8, 512)    0           bn5c_branch2b[0][0]              \n",
      "__________________________________________________________________________________________________\n",
      "res5c_branch2c (Conv2D)         (None, 8, 8, 2048)   1050624     activation_401[0][0]             \n",
      "__________________________________________________________________________________________________\n",
      "bn5c_branch2c (BatchNormalizati (None, 8, 8, 2048)   8192        res5c_branch2c[0][0]             \n",
      "__________________________________________________________________________________________________\n",
      "add_131 (Add)                   (None, 8, 8, 2048)   0           bn5c_branch2c[0][0]              \n",
      "                                                                 activation_399[0][0]             \n",
      "__________________________________________________________________________________________________\n",
      "activation_402 (Activation)     (None, 8, 8, 2048)   0           add_131[0][0]                    \n",
      "__________________________________________________________________________________________________\n",
      "res5d_branch2a (Conv2D)         (None, 8, 8, 512)    1049088     activation_402[0][0]             \n",
      "__________________________________________________________________________________________________\n",
      "bn5d_branch2a (BatchNormalizati (None, 8, 8, 512)    2048        res5d_branch2a[0][0]             \n",
      "__________________________________________________________________________________________________\n",
      "activation_403 (Activation)     (None, 8, 8, 512)    0           bn5d_branch2a[0][0]              \n",
      "__________________________________________________________________________________________________\n",
      "res5d_branch2b (Conv2D)         (None, 8, 8, 512)    2359808     activation_403[0][0]             \n",
      "__________________________________________________________________________________________________\n",
      "bn5d_branch2b (BatchNormalizati (None, 8, 8, 512)    2048        res5d_branch2b[0][0]             \n",
      "__________________________________________________________________________________________________\n",
      "activation_404 (Activation)     (None, 8, 8, 512)    0           bn5d_branch2b[0][0]              \n",
      "__________________________________________________________________________________________________\n",
      "res5d_branch2c (Conv2D)         (None, 8, 8, 2048)   1050624     activation_404[0][0]             \n",
      "__________________________________________________________________________________________________\n",
      "bn5d_branch2c (BatchNormalizati (None, 8, 8, 2048)   8192        res5d_branch2c[0][0]             \n",
      "__________________________________________________________________________________________________\n",
      "add_132 (Add)                   (None, 8, 8, 2048)   0           bn5d_branch2c[0][0]              \n",
      "                                                                 activation_402[0][0]             \n",
      "__________________________________________________________________________________________________\n",
      "activation_405 (Activation)     (None, 8, 8, 2048)   0           add_132[0][0]                    \n",
      "__________________________________________________________________________________________________\n",
      "res6a_branch2a (Conv2D)         (None, 4, 4, 1024)   2098176     activation_405[0][0]             \n",
      "__________________________________________________________________________________________________\n",
      "bn6a_branch2a (BatchNormalizati (None, 4, 4, 1024)   4096        res6a_branch2a[0][0]             \n",
      "__________________________________________________________________________________________________\n",
      "activation_406 (Activation)     (None, 4, 4, 1024)   0           bn6a_branch2a[0][0]              \n",
      "__________________________________________________________________________________________________\n",
      "res6a_branch2b (Conv2D)         (None, 4, 4, 1024)   9438208     activation_406[0][0]             \n",
      "__________________________________________________________________________________________________\n",
      "bn6a_branch2b (BatchNormalizati (None, 4, 4, 1024)   4096        res6a_branch2b[0][0]             \n",
      "__________________________________________________________________________________________________\n",
      "activation_407 (Activation)     (None, 4, 4, 1024)   0           bn6a_branch2b[0][0]              \n",
      "__________________________________________________________________________________________________\n",
      "res6a_branch2c (Conv2D)         (None, 4, 4, 4096)   4198400     activation_407[0][0]             \n",
      "__________________________________________________________________________________________________\n",
      "res6a_branch1 (Conv2D)          (None, 4, 4, 4096)   8392704     activation_405[0][0]             \n",
      "__________________________________________________________________________________________________\n",
      "bn6a_branch2c (BatchNormalizati (None, 4, 4, 4096)   16384       res6a_branch2c[0][0]             \n",
      "__________________________________________________________________________________________________\n",
      "bn6a_branch1 (BatchNormalizatio (None, 4, 4, 4096)   16384       res6a_branch1[0][0]              \n",
      "__________________________________________________________________________________________________\n",
      "add_133 (Add)                   (None, 4, 4, 4096)   0           bn6a_branch2c[0][0]              \n",
      "                                                                 bn6a_branch1[0][0]               \n",
      "__________________________________________________________________________________________________\n",
      "activation_408 (Activation)     (None, 4, 4, 4096)   0           add_133[0][0]                    \n",
      "__________________________________________________________________________________________________\n",
      "res6b_branch2a (Conv2D)         (None, 4, 4, 1024)   4195328     activation_408[0][0]             \n",
      "__________________________________________________________________________________________________\n",
      "bn6b_branch2a (BatchNormalizati (None, 4, 4, 1024)   4096        res6b_branch2a[0][0]             \n",
      "__________________________________________________________________________________________________\n",
      "activation_409 (Activation)     (None, 4, 4, 1024)   0           bn6b_branch2a[0][0]              \n",
      "__________________________________________________________________________________________________\n",
      "res6b_branch2b (Conv2D)         (None, 4, 4, 1024)   9438208     activation_409[0][0]             \n",
      "__________________________________________________________________________________________________\n",
      "bn6b_branch2b (BatchNormalizati (None, 4, 4, 1024)   4096        res6b_branch2b[0][0]             \n",
      "__________________________________________________________________________________________________\n",
      "activation_410 (Activation)     (None, 4, 4, 1024)   0           bn6b_branch2b[0][0]              \n",
      "__________________________________________________________________________________________________\n",
      "res6b_branch2c (Conv2D)         (None, 4, 4, 4096)   4198400     activation_410[0][0]             \n",
      "__________________________________________________________________________________________________\n",
      "bn6b_branch2c (BatchNormalizati (None, 4, 4, 4096)   16384       res6b_branch2c[0][0]             \n",
      "__________________________________________________________________________________________________\n",
      "add_134 (Add)                   (None, 4, 4, 4096)   0           bn6b_branch2c[0][0]              \n",
      "                                                                 activation_408[0][0]             \n",
      "__________________________________________________________________________________________________\n",
      "activation_411 (Activation)     (None, 4, 4, 4096)   0           add_134[0][0]                    \n",
      "__________________________________________________________________________________________________\n",
      "res6c_branch2a (Conv2D)         (None, 4, 4, 1024)   4195328     activation_411[0][0]             \n",
      "__________________________________________________________________________________________________\n",
      "bn6c_branch2a (BatchNormalizati (None, 4, 4, 1024)   4096        res6c_branch2a[0][0]             \n",
      "__________________________________________________________________________________________________\n",
      "activation_412 (Activation)     (None, 4, 4, 1024)   0           bn6c_branch2a[0][0]              \n",
      "__________________________________________________________________________________________________\n",
      "res6c_branch2b (Conv2D)         (None, 4, 4, 1024)   9438208     activation_412[0][0]             \n",
      "__________________________________________________________________________________________________\n",
      "bn6c_branch2b (BatchNormalizati (None, 4, 4, 1024)   4096        res6c_branch2b[0][0]             \n",
      "__________________________________________________________________________________________________\n",
      "activation_413 (Activation)     (None, 4, 4, 1024)   0           bn6c_branch2b[0][0]              \n",
      "__________________________________________________________________________________________________\n",
      "res6c_branch2c (Conv2D)         (None, 4, 4, 4096)   4198400     activation_413[0][0]             \n",
      "__________________________________________________________________________________________________\n",
      "bn6c_branch2c (BatchNormalizati (None, 4, 4, 4096)   16384       res6c_branch2c[0][0]             \n",
      "__________________________________________________________________________________________________\n",
      "add_135 (Add)                   (None, 4, 4, 4096)   0           bn6c_branch2c[0][0]              \n",
      "                                                                 activation_411[0][0]             \n",
      "__________________________________________________________________________________________________\n",
      "activation_414 (Activation)     (None, 4, 4, 4096)   0           add_135[0][0]                    \n",
      "__________________________________________________________________________________________________\n",
      "avg_pool (AveragePooling2D)     (None, 2, 2, 4096)   0           activation_414[0][0]             \n",
      "__________________________________________________________________________________________________\n",
      "flatten_6 (Flatten)             (None, 16384)        0           avg_pool[0][0]                   \n",
      "__________________________________________________________________________________________________\n",
      "fc2 (Dense)                     (None, 2)            32770       flatten_6[0][0]                  \n",
      "==================================================================================================\n",
      "Total params: 88,891,394\n",
      "Trainable params: 88,783,746\n",
      "Non-trainable params: 107,648\n",
      "__________________________________________________________________________________________________\n"
     ]
    }
   ],
   "source": [
    "model13.summary()"
   ]
  },
  {
   "cell_type": "markdown",
   "metadata": {},
   "source": [
    "## Making prediction on sample images using Model13"
   ]
  },
  {
   "cell_type": "markdown",
   "metadata": {},
   "source": [
    "### Fetching random images from validation dataset"
   ]
  },
  {
   "cell_type": "code",
   "execution_count": 281,
   "metadata": {},
   "outputs": [
    {
     "data": {
      "text/plain": [
       "'data/validation/alien/71.jpg'"
      ]
     },
     "execution_count": 281,
     "metadata": {},
     "output_type": "execute_result"
    }
   ],
   "source": [
    "img_path = 'data/validation/alien/71.jpg'\n",
    "img_path"
   ]
  },
  {
   "cell_type": "markdown",
   "metadata": {},
   "source": [
    "### Preprocessing and classifying the image"
   ]
  },
  {
   "cell_type": "code",
   "execution_count": 282,
   "metadata": {},
   "outputs": [
    {
     "name": "stdout",
     "output_type": "stream",
     "text": [
      "Input image shape: (1, 256, 256, 3)\n"
     ]
    }
   ],
   "source": [
    "img = image.load_img(img_path, target_size=(256, 256))\n",
    "x = image.img_to_array(img)\n",
    "x = np.expand_dims(x, axis=0)\n",
    "x = x/255.0\n",
    "print('Input image shape:', x.shape)"
   ]
  },
  {
   "cell_type": "code",
   "execution_count": 283,
   "metadata": {},
   "outputs": [
    {
     "data": {
      "text/plain": [
       "array([0.7961518 , 0.20384823], dtype=float32)"
      ]
     },
     "execution_count": 283,
     "metadata": {},
     "output_type": "execute_result"
    }
   ],
   "source": [
    "my_image = Image.open(img_path)\n",
    "img_pred = np.array(model13.predict(x)[0])\n",
    "img_pred"
   ]
  },
  {
   "cell_type": "markdown",
   "metadata": {},
   "source": [
    "### Plotting the image with classfication percentage"
   ]
  },
  {
   "cell_type": "code",
   "execution_count": 284,
   "metadata": {},
   "outputs": [
    {
     "data": {
      "image/png": "[encoded data removed]",
      "text/plain": [
       "<Figure size 432x288 with 1 Axes>"
      ]
     },
     "metadata": {
      "needs_background": "light"
     },
     "output_type": "display_data"
    }
   ],
   "source": [
    "plt.title(\"{:.2f}% Alien, {:.2f}% Predator\".format(100*img_pred[0],\n",
    "                                                            100*img_pred[1]))\n",
    "plt.imshow(my_image)\n",
    "plt.show()"
   ]
  },
  {
   "cell_type": "markdown",
   "metadata": {},
   "source": [
    "## References\n",
    "\n",
    "Alien vs. Predator images dataset [Kaggle](https://www.kaggle.com/pmigdal/alien-vs-predator-images)\n",
    "\n",
    "Deep Residual Learning for Image Recognition by [He et al.](https://arxiv.org/pdf/1512.03385.pdf)\n",
    "\n",
    "Keras API reference / Data preprocessing / Image data preprocessing [keras.io](https://keras.io/api/preprocessing/image/)"
   ]
  }
 ],
 "metadata": {
  "kernelspec": {
   "display_name": "Python 3",
   "language": "python",
   "name": "python3"
  },
  "language_info": {
   "codemirror_mode": {
    "name": "ipython",
    "version": 3
   },
   "file_extension": ".py",
   "mimetype": "text/x-python",
   "name": "python",
   "nbconvert_exporter": "python",
   "pygments_lexer": "ipython3",
   "version": "3.7.6"
  },
  "toc": {
   "base_numbering": 1,
   "nav_menu": {},
   "number_sections": true,
   "sideBar": true,
   "skip_h1_title": true,
   "title_cell": "Table of Contents",
   "title_sidebar": "Contents",
   "toc_cell": true,
   "toc_position": {},
   "toc_section_display": true,
   "toc_window_display": true
  }
 },
 "nbformat": 4,
 "nbformat_minor": 4
}
